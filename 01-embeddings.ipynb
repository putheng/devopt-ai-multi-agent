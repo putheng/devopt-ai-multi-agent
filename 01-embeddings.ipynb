{
 "cells": [
  {
   "cell_type": "markdown",
   "id": "349d6a04",
   "metadata": {},
   "source": [
    "### 🔹 **Embeddings & Vector DB**\n",
    "\n",
    "**Goal**: Prepare the data so it can be semantically searched.\n"
   ]
  },
  {
   "cell_type": "markdown",
   "id": "10ae0dbd",
   "metadata": {},
   "source": [
    "1. **Data Collection**\n",
    "\n",
    "   * Gather course documents (PDFs, HTML, Markdown, etc.)"
   ]
  },
  {
   "cell_type": "markdown",
   "id": "ef88ea73",
   "metadata": {},
   "source": [
    "2. **Text Preprocessing**\n",
    "\n",
    "   * Clean the text (remove noise like headers, footers, boilerplate)\n",
    "   * Optional: Normalize (lowercase, punctuation removal, etc.)\n"
   ]
  },
  {
   "cell_type": "code",
   "execution_count": 2,
   "id": "45d369a7",
   "metadata": {},
   "outputs": [],
   "source": [
    "from markdown_cleaner import MarkdownCleaner\n",
    "\n",
    "cleaner = MarkdownCleaner()\n",
    "cleaned_content = cleaner.clean_file(\"devopt-document.md\")"
   ]
  },
  {
   "cell_type": "markdown",
   "id": "8cb50db6",
   "metadata": {},
   "source": [
    "3. **Chunking**\n",
    "\n",
    "   * Split documents into smaller chunks (e.g., 500–1000 tokens)\n",
    "   * Optionally add overlap (to preserve context across chunks)\n"
   ]
  },
  {
   "cell_type": "code",
   "execution_count": 3,
   "id": "e992d298",
   "metadata": {},
   "outputs": [],
   "source": [
    "from supports import text_chunking\n",
    "\n",
    "chunks = text_chunking(cleaned_content)"
   ]
  },
  {
   "cell_type": "code",
   "execution_count": 4,
   "id": "de3bcc79",
   "metadata": {},
   "outputs": [],
   "source": [
    "from langchain_experimental.text_splitter import SemanticChunker\n",
    "from langchain_openai.embeddings import OpenAIEmbeddings\n",
    "\n",
    "text_splitter = SemanticChunker(OpenAIEmbeddings())\n",
    "text_splitter = SemanticChunker(\n",
    "    OpenAIEmbeddings(), breakpoint_threshold_type=\"percentile\" # \"standard_deviation\", \"interquartile\"\n",
    ")\n",
    "documents = text_splitter.create_documents([cleaned_content])"
   ]
  },
  {
   "cell_type": "code",
   "execution_count": 5,
   "id": "1dc501e2",
   "metadata": {},
   "outputs": [
    {
     "name": "stdout",
     "output_type": "stream",
     "text": [
      "page_content='### Git Repository\n",
      "- Name: kdeployment\n",
      "    - Description: Kubernetes manifest for deploying applications in Development, Staging and Production environments. - URL: https://bitbucket.org/cellcardvasdev/kdeployment\n",
      "\n",
      "- Name: number-management\n",
      "    - Description: management of phone numbers and related data.'\n",
      "---\n",
      "page_content='- URL: https://bitbucket.org/cellcardvasdev/number-management\n",
      "\n",
      "- Name: dms-connector\n",
      "    - Description: dms-connector\n",
      "    - URL: https://bitbucket.org/cellcardvasdev/dms-connector\n",
      "\n",
      "- Name: specialnumberseles-v2\n",
      "    - Description: specialnumberseles-v2\n",
      "    - URL: https://bitbucket.org/cellcardvasdev/specialnumberseles-v2\n",
      "\n",
      "- Name: data-plus\n",
      "    - Description:\n",
      "    - URL: https://bitbucket.org/cellcardvasdev/data-plus\n",
      "\n",
      "- Name: mlbb-addon-subscription\n",
      "    - Description:\n",
      "    - URL: https://bitbucket.org/cellcardvasdev/mlbb-addon-subscription\n",
      "\n",
      "- Name:\n",
      "    - Description:\n",
      "    - URL: https://bitbucket.org/cellcardvasdev/socialpack'\n",
      "---\n"
     ]
    }
   ],
   "source": [
    "for doc in documents:\n",
    "    print(doc)\n",
    "    print(\"---\")"
   ]
  },
  {
   "cell_type": "markdown",
   "id": "40904a05",
   "metadata": {},
   "source": [
    "4. **Embedding**\n",
    "\n",
    "   * Use a model like `text-embedding-3-small` or `sentence-transformers`\n",
    "   * Convert each chunk into a vector\n"
   ]
  },
  {
   "cell_type": "code",
   "execution_count": 6,
   "id": "d4eeadb7",
   "metadata": {},
   "outputs": [],
   "source": [
    "from qdrant_client.http.models import PointStruct\n",
    "import uuid\n",
    "from supports import text_embedding \n",
    "\n",
    "points = []\n",
    "for document in documents:\n",
    "    embedding = text_embedding(document.page_content)\n",
    "    points.append(PointStruct(\n",
    "        id=str(uuid.uuid4()),\n",
    "        vector=embedding,\n",
    "        payload={\"source\": \"devopt-document.md\", \"text\": document.page_content}\n",
    "    ))"
   ]
  },
  {
   "cell_type": "markdown",
   "id": "40316417",
   "metadata": {},
   "source": [
    "5. **Insert into Vector DB**\n",
    "\n",
    "   * Store vectors in Qdrant\n",
    "   * Attach metadata (e.g., source, page number, doc title)\n"
   ]
  },
  {
   "cell_type": "code",
   "execution_count": 7,
   "id": "42455412",
   "metadata": {},
   "outputs": [],
   "source": [
    "from qdrant_client.http.models import VectorParams, Distance\n",
    "from supports import qdrant_client as qdrant, collection_name\n",
    "\n",
    "if not qdrant.collection_exists(collection_name):\n",
    "    qdrant.create_collection(\n",
    "        collection_name=collection_name,\n",
    "        vectors_config=VectorParams(size=1536, distance=Distance.COSINE)\n",
    "    )"
   ]
  },
  {
   "cell_type": "code",
   "execution_count": 8,
   "id": "30f1a3d5",
   "metadata": {},
   "outputs": [
    {
     "name": "stdout",
     "output_type": "stream",
     "text": [
      "✅ Indexed 2 chunks into Qdrant.\n"
     ]
    }
   ],
   "source": [
    "from supports import qdrant_client as qdrant, collection_name\n",
    "qdrant.upsert(collection_name=collection_name, points=points)\n",
    "\n",
    "print(f\"✅ Indexed {len(points)} chunks into Qdrant.\")"
   ]
  },
  {
   "cell_type": "markdown",
   "id": "db7b87ee",
   "metadata": {},
   "source": [
    "[View Collection](http://localhost:6333/dashboard#/collections/cellcard_dataplus)"
   ]
  }
 ],
 "metadata": {
  "kernelspec": {
   "display_name": ".venv",
   "language": "python",
   "name": "python3"
  },
  "language_info": {
   "codemirror_mode": {
    "name": "ipython",
    "version": 3
   },
   "file_extension": ".py",
   "mimetype": "text/x-python",
   "name": "python",
   "nbconvert_exporter": "python",
   "pygments_lexer": "ipython3",
   "version": "3.11.9"
  }
 },
 "nbformat": 4,
 "nbformat_minor": 5
}
